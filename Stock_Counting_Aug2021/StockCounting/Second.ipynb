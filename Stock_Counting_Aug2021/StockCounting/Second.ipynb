{
 "cells": [
  {
   "cell_type": "code",
   "execution_count": 114,
   "metadata": {},
   "outputs": [],
   "source": [
    "import pandas as pd\n",
    "import csv"
   ]
  },
  {
   "cell_type": "code",
   "execution_count": 121,
   "metadata": {},
   "outputs": [
    {
     "data": {
      "text/plain": [
       "[['Tresures Shiraz 750ML', '$17.99', 123, 1],\n",
       " ['Salvare Red Blend', '$8.99', 234, 2],\n",
       " ['Tresures Shiraz 750ML', '$17.99', 123, 5],\n",
       " ['Salvare Red Blend', '$8.99', 234, 2],\n",
       " ['PENLEY ESTATE HYLAND SHIRAZ 2019', '$26.50', 345, 8],\n",
       " ['BABICH MARLBOROUGH ROSE 2020 (6PK)', '$16.99', 456, 5]]"
      ]
     },
     "execution_count": 121,
     "metadata": {},
     "output_type": "execute_result"
    }
   ],
   "source": [
    "df=pd.read_csv('one_edited.csv', sep=',', names=['Name', 'Price', 'Barcode', 'Qnt'])\n",
    "file = df.values.tolist()\n",
    "file"
   ]
  },
  {
   "cell_type": "code",
   "execution_count": 122,
   "metadata": {},
   "outputs": [],
   "source": [
    "df1 = df[df.duplicated(subset=['Barcode'], keep=False)]\n",
    "duplicates = df1.values.tolist()"
   ]
  },
  {
   "cell_type": "code",
   "execution_count": 125,
   "metadata": {},
   "outputs": [
    {
     "data": {
      "text/html": [
       "<div>\n",
       "<style scoped>\n",
       "    .dataframe tbody tr th:only-of-type {\n",
       "        vertical-align: middle;\n",
       "    }\n",
       "\n",
       "    .dataframe tbody tr th {\n",
       "        vertical-align: top;\n",
       "    }\n",
       "\n",
       "    .dataframe thead th {\n",
       "        text-align: right;\n",
       "    }\n",
       "</style>\n",
       "<table border=\"1\" class=\"dataframe\">\n",
       "  <thead>\n",
       "    <tr style=\"text-align: right;\">\n",
       "      <th></th>\n",
       "      <th>Name</th>\n",
       "      <th>Price</th>\n",
       "      <th>Barcode</th>\n",
       "      <th>Qnt</th>\n",
       "    </tr>\n",
       "  </thead>\n",
       "  <tbody>\n",
       "    <tr>\n",
       "      <th>0</th>\n",
       "      <td>Tresures Shiraz 750ML</td>\n",
       "      <td>$17.99</td>\n",
       "      <td>123</td>\n",
       "      <td>6</td>\n",
       "    </tr>\n",
       "    <tr>\n",
       "      <th>1</th>\n",
       "      <td>Salvare Red Blend</td>\n",
       "      <td>$8.99</td>\n",
       "      <td>234</td>\n",
       "      <td>4</td>\n",
       "    </tr>\n",
       "    <tr>\n",
       "      <th>4</th>\n",
       "      <td>PENLEY ESTATE HYLAND SHIRAZ 2019</td>\n",
       "      <td>$26.50</td>\n",
       "      <td>345</td>\n",
       "      <td>8</td>\n",
       "    </tr>\n",
       "    <tr>\n",
       "      <th>5</th>\n",
       "      <td>BABICH MARLBOROUGH ROSE 2020 (6PK)</td>\n",
       "      <td>$16.99</td>\n",
       "      <td>456</td>\n",
       "      <td>5</td>\n",
       "    </tr>\n",
       "  </tbody>\n",
       "</table>\n",
       "</div>"
      ],
      "text/plain": [
       "                                 Name   Price  Barcode  Qnt\n",
       "0               Tresures Shiraz 750ML  $17.99      123    6\n",
       "1                   Salvare Red Blend   $8.99      234    4\n",
       "4    PENLEY ESTATE HYLAND SHIRAZ 2019  $26.50      345    8\n",
       "5  BABICH MARLBOROUGH ROSE 2020 (6PK)  $16.99      456    5"
      ]
     },
     "execution_count": 125,
     "metadata": {},
     "output_type": "execute_result"
    }
   ],
   "source": [
    "def totler(duplicates):\n",
    "    def appender(row):\n",
    "        temp = [row[0], row[1], row[2], int(row[3])]\n",
    "        new_file.append(temp)\n",
    "    def additor(row, sublist):\n",
    "        if row[0] in sublist:\n",
    "            new_file[i][3] += int(row[3])\n",
    "\n",
    "    new_file = [[]]\n",
    "    for row in file:\n",
    "        for i, sublist in enumerate(new_file):\n",
    "            if row[0] in sublist:\n",
    "                additor(row, sublist)\n",
    "                break\n",
    "        appender(row)\n",
    "    return new_file\n",
    "duplicates = totler(duplicates)\n",
    "duplicates = duplicates[1:]\n",
    "dup_df = pd.DataFrame(duplicates, columns=['Name', 'Price', 'Barcode', 'Qnt'])\n",
    "dup_df = dup_df.drop_duplicates(subset=['Barcode'])\n",
    "#dup_list = dup_df.values.tolist()\n",
    "dup_df"
   ]
  },
  {
   "cell_type": "code",
   "execution_count": 113,
   "metadata": {},
   "outputs": [],
   "source": [
    "dup_df.to_csv('NO_DUPLICATES.csv', index=False)"
   ]
  },
  {
   "cell_type": "code",
   "execution_count": null,
   "metadata": {},
   "outputs": [],
   "source": []
  }
 ],
 "metadata": {
  "kernelspec": {
   "display_name": "Python 3",
   "language": "python",
   "name": "python3"
  },
  "language_info": {
   "codemirror_mode": {
    "name": "ipython",
    "version": 3
   },
   "file_extension": ".py",
   "mimetype": "text/x-python",
   "name": "python",
   "nbconvert_exporter": "python",
   "pygments_lexer": "ipython3",
   "version": "3.6.13"
  }
 },
 "nbformat": 4,
 "nbformat_minor": 4
}
