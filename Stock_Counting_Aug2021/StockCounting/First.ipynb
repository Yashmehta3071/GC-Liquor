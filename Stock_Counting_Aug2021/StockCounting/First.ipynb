{
 "cells": [
  {
   "cell_type": "code",
   "execution_count": 1,
   "metadata": {},
   "outputs": [],
   "source": [
    "f = \"\"\"\n",
    "Tresures Shiraz 750ML\n",
    "1\n",
    "$17.99\n",
    "$17.99\n",
    "\n",
    "Salvare Red Blend\n",
    "1\n",
    "$8.99\n",
    "$8.99\n",
    "\n",
    "Tresures Shiraz 750ML\n",
    "1\n",
    "$17.99\n",
    "$17.99\n",
    "\n",
    "Salvare Red Blend\n",
    "1\n",
    "$8.99\n",
    "$8.99\n",
    "\n",
    "PENLEY ESTATE HYLAND SHIRAZ 2019\n",
    "1\n",
    "$26.50\n",
    "$26.50\n",
    "BABICH MARLBOROUGH ROSE 2020\n",
    "BABICH MARLBOROUGH ROSE 2020 (6PK)\n",
    "2\n",
    "$16.99\n",
    "$33.98\"\"\""
   ]
  },
  {
   "cell_type": "code",
   "execution_count": 2,
   "metadata": {},
   "outputs": [],
   "source": [
    "f1 = f.split('\\n')"
   ]
  },
  {
   "cell_type": "code",
   "execution_count": 3,
   "metadata": {},
   "outputs": [],
   "source": [
    "i = 0\n",
    "name = []\n",
    "price = []\n",
    "while i < len(f1):\n",
    "    name.append(f1[i+1])\n",
    "    price.append(f1[i+3])\n",
    "    i = i+5\n",
    "    "
   ]
  },
  {
   "cell_type": "code",
   "execution_count": 4,
   "metadata": {},
   "outputs": [
    {
     "data": {
      "text/plain": [
       "<zip at 0x7fe03c09c8c8>"
      ]
     },
     "execution_count": 4,
     "metadata": {},
     "output_type": "execute_result"
    }
   ],
   "source": [
    "zip(name, price)"
   ]
  },
  {
   "cell_type": "code",
   "execution_count": 5,
   "metadata": {},
   "outputs": [],
   "source": [
    "import csv\n",
    "with open('countAug2021.csv', 'w') as n:\n",
    "    writer = csv.writer(n, delimiter='\\t')\n",
    "    writer.writerows(zip(name, price))\n",
    "    "
   ]
  },
  {
   "cell_type": "code",
   "execution_count": null,
   "metadata": {},
   "outputs": [],
   "source": []
  }
 ],
 "metadata": {
  "kernelspec": {
   "display_name": "Python 3",
   "language": "python",
   "name": "python3"
  },
  "language_info": {
   "codemirror_mode": {
    "name": "ipython",
    "version": 3
   },
   "file_extension": ".py",
   "mimetype": "text/x-python",
   "name": "python",
   "nbconvert_exporter": "python",
   "pygments_lexer": "ipython3",
   "version": "3.6.13"
  }
 },
 "nbformat": 4,
 "nbformat_minor": 2
}
